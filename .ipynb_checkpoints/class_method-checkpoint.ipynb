{
 "cells": [
  {
   "cell_type": "markdown",
   "id": "15aa341c",
   "metadata": {},
   "source": [
    "# class method\n"
   ]
  },
  {
   "cell_type": "code",
   "execution_count": 202,
   "id": "d6eb5947",
   "metadata": {},
   "outputs": [],
   "source": [
    "#### class method ####\n",
    "class pwskills:\n",
    "    phone = 9687480417\n",
    "    def __init__(self, name, email):\n",
    "        self.name = name \n",
    "        self.email = email\n",
    "        \n",
    "    @classmethod\n",
    "    def change_phone(cls, phone):\n",
    "        pwskills.phone = phone\n",
    "        return pwskills.phone\n",
    "        \n",
    "    @classmethod\n",
    "    def student(cls, name, email):\n",
    "        return cls(name, email)\n",
    "    \n",
    "    def student_details(self):\n",
    "        print(self.name, self.email, pwskills.phone)"
   ]
  },
  {
   "cell_type": "code",
   "execution_count": 203,
   "id": "b51146da",
   "metadata": {},
   "outputs": [
    {
     "data": {
      "text/plain": [
       "'deepclass'"
      ]
     },
     "execution_count": 203,
     "metadata": {},
     "output_type": "execute_result"
    }
   ],
   "source": [
    "o  = pwskills(\"deep\", \"deep@gmail.com\")\n",
    "cv = pwskills.student(\"deepclass\", \"deepclass@gmail.com\")\n",
    "cv.name"
   ]
  },
  {
   "cell_type": "code",
   "execution_count": 178,
   "id": "0ba18d53",
   "metadata": {},
   "outputs": [
    {
     "data": {
      "text/plain": [
       "9687480417"
      ]
     },
     "execution_count": 178,
     "metadata": {},
     "output_type": "execute_result"
    }
   ],
   "source": [
    "pwskills.phone"
   ]
  },
  {
   "cell_type": "code",
   "execution_count": 179,
   "id": "db77841e",
   "metadata": {},
   "outputs": [
    {
     "data": {
      "text/plain": [
       "7847587451"
      ]
     },
     "execution_count": 179,
     "metadata": {},
     "output_type": "execute_result"
    }
   ],
   "source": [
    "new_num = pwskills.change_phone(7847587451)\n",
    "new_num"
   ]
  },
  {
   "cell_type": "code",
   "execution_count": 180,
   "id": "e3b5420c",
   "metadata": {},
   "outputs": [
    {
     "data": {
      "text/plain": [
       "7847587451"
      ]
     },
     "execution_count": 180,
     "metadata": {},
     "output_type": "execute_result"
    }
   ],
   "source": [
    "pwskills.phone\n"
   ]
  },
  {
   "cell_type": "code",
   "execution_count": 182,
   "id": "1507f241",
   "metadata": {},
   "outputs": [
    {
     "name": "stdout",
     "output_type": "stream",
     "text": [
      "newman newman@gmail.com 7847587451\n"
     ]
    }
   ],
   "source": [
    "new_obj = pwskills('newman', 'newman@gmail.com')\n",
    "new_obj.student_details()"
   ]
  },
  {
   "cell_type": "markdown",
   "id": "243a90e5",
   "metadata": {},
   "source": [
    "## external fuction"
   ]
  },
  {
   "cell_type": "code",
   "execution_count": 205,
   "id": "b5efde4b",
   "metadata": {},
   "outputs": [],
   "source": [
    "def course_details(cls, course_name):\n",
    "    print(\"course name is: \", course_name)"
   ]
  },
  {
   "cell_type": "code",
   "execution_count": 206,
   "id": "c9119e6b",
   "metadata": {},
   "outputs": [],
   "source": [
    "pwskills.course_details = classmethod(course_details)"
   ]
  },
  {
   "cell_type": "code",
   "execution_count": 208,
   "id": "be315dee",
   "metadata": {},
   "outputs": [
    {
     "name": "stdout",
     "output_type": "stream",
     "text": [
      "course name is:  data sccience master\n"
     ]
    }
   ],
   "source": [
    "pwskills.course_details('data sccience master')"
   ]
  },
  {
   "cell_type": "code",
   "execution_count": 209,
   "id": "f15c9f03",
   "metadata": {},
   "outputs": [],
   "source": [
    "def mentor(cls, list_of_mentor):\n",
    "    print(\"This is a mentor list : \", list_of_mentor)"
   ]
  },
  {
   "cell_type": "code",
   "execution_count": 210,
   "id": "a347ffe3",
   "metadata": {},
   "outputs": [],
   "source": [
    "pwskills.mentor = classmethod(mentor)"
   ]
  },
  {
   "cell_type": "code",
   "execution_count": 211,
   "id": "583d1a11",
   "metadata": {},
   "outputs": [
    {
     "name": "stdout",
     "output_type": "stream",
     "text": [
      "This is a mentor list :  ['sir', 'medam', 'sir-medam']\n"
     ]
    }
   ],
   "source": [
    "pwskills.mentor(['sir', 'medam', 'sir-medam'])"
   ]
  }
 ],
 "metadata": {
  "kernelspec": {
   "display_name": "Python 3 (ipykernel)",
   "language": "python",
   "name": "python3"
  },
  "language_info": {
   "codemirror_mode": {
    "name": "ipython",
    "version": 3
   },
   "file_extension": ".py",
   "mimetype": "text/x-python",
   "name": "python",
   "nbconvert_exporter": "python",
   "pygments_lexer": "ipython3",
   "version": "3.10.9"
  }
 },
 "nbformat": 4,
 "nbformat_minor": 5
}
