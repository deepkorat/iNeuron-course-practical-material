{
 "cells": [
  {
   "cell_type": "code",
   "execution_count": 28,
   "id": "6c73f3e6",
   "metadata": {},
   "outputs": [],
   "source": [
    "import abc\n",
    "class pwskills:\n",
    "     \n",
    "#     @abc.abstractmethod\n",
    "    def student_details(self):\n",
    "        pass\n",
    "    \n",
    "#     @abc.abstractmethod\n",
    "    def student_assignment(self):\n",
    "        pass\n",
    "    \n",
    "#     @abc.abstractmethod\n",
    "    def student_marks(self):\n",
    "        pass\n",
    "    "
   ]
  },
  {
   "cell_type": "code",
   "execution_count": 29,
   "id": "200820d6",
   "metadata": {},
   "outputs": [],
   "source": [
    "class data_science:\n",
    "    def student_details(self):\n",
    "        return \"this is stuent details of data science class\"\n",
    "    \n",
    "class python:\n",
    "    def student_details(self):\n",
    "        return \"this is a python class student details.\""
   ]
  },
  {
   "cell_type": "code",
   "execution_count": 30,
   "id": "6a2b9c52",
   "metadata": {},
   "outputs": [],
   "source": [
    "data_science = data_science()"
   ]
  },
  {
   "cell_type": "code",
   "execution_count": 31,
   "id": "3df15f4b",
   "metadata": {},
   "outputs": [],
   "source": [
    "python = python()"
   ]
  },
  {
   "cell_type": "code",
   "execution_count": 32,
   "id": "42c90bbe",
   "metadata": {},
   "outputs": [
    {
     "data": {
      "text/plain": [
       "'this is stuent details of data science class'"
      ]
     },
     "execution_count": 32,
     "metadata": {},
     "output_type": "execute_result"
    }
   ],
   "source": [
    "data_science.student_details()"
   ]
  },
  {
   "cell_type": "code",
   "execution_count": 33,
   "id": "407d34f6",
   "metadata": {},
   "outputs": [
    {
     "data": {
      "text/plain": [
       "'this is a python class student details.'"
      ]
     },
     "execution_count": 33,
     "metadata": {},
     "output_type": "execute_result"
    }
   ],
   "source": [
    "python.student_details()"
   ]
  }
 ],
 "metadata": {
  "kernelspec": {
   "display_name": "Python 3 (ipykernel)",
   "language": "python",
   "name": "python3"
  },
  "language_info": {
   "codemirror_mode": {
    "name": "ipython",
    "version": 3
   },
   "file_extension": ".py",
   "mimetype": "text/x-python",
   "name": "python",
   "nbconvert_exporter": "python",
   "pygments_lexer": "ipython3",
   "version": "3.10.9"
  }
 },
 "nbformat": 4,
 "nbformat_minor": 5
}
