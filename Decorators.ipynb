{
 "cells": [
  {
   "cell_type": "code",
   "execution_count": 98,
   "id": "2fcd62c6",
   "metadata": {},
   "outputs": [],
   "source": [
    "##### decorator function ######\n",
    "import time\n",
    "def time_test(func):\n",
    "    def time_test_inner():\n",
    "        start = time.time()\n",
    "        func()\n",
    "        end = time.time()\n",
    "        print(\"time:- \", end - start)\n",
    "    return time_test_inner"
   ]
  },
  {
   "cell_type": "code",
   "execution_count": 83,
   "id": "037e5d60",
   "metadata": {},
   "outputs": [],
   "source": [
    "@time_test\n",
    "def test():\n",
    "    print(\"34+363\", 4385*24958)"
   ]
  },
  {
   "cell_type": "code",
   "execution_count": 91,
   "id": "f9c69a72",
   "metadata": {},
   "outputs": [
    {
     "name": "stdout",
     "output_type": "stream",
     "text": [
      "34+363 109440830\n",
      "time:-  0.0020084381103515625\n"
     ]
    }
   ],
   "source": [
    "test()"
   ]
  },
  {
   "cell_type": "code",
   "execution_count": 99,
   "id": "fea35cc6",
   "metadata": {},
   "outputs": [],
   "source": [
    "@time_test\n",
    "def test2():\n",
    "    for i in range(9000000000):\n",
    "        pass\n",
    "    "
   ]
  },
  {
   "cell_type": "code",
   "execution_count": 100,
   "id": "4419f60f",
   "metadata": {},
   "outputs": [
    {
     "name": "stdout",
     "output_type": "stream",
     "text": [
      "time:-  943.9285979270935\n"
     ]
    }
   ],
   "source": [
    "test2()"
   ]
  }
 ],
 "metadata": {
  "kernelspec": {
   "display_name": "Python 3 (ipykernel)",
   "language": "python",
   "name": "python3"
  },
  "language_info": {
   "codemirror_mode": {
    "name": "ipython",
    "version": 3
   },
   "file_extension": ".py",
   "mimetype": "text/x-python",
   "name": "python",
   "nbconvert_exporter": "python",
   "pygments_lexer": "ipython3",
   "version": "3.10.9"
  }
 },
 "nbformat": 4,
 "nbformat_minor": 5
}
