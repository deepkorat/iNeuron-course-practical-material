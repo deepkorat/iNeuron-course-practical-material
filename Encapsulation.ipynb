{
 "cells": [
  {
   "cell_type": "code",
   "execution_count": 5,
   "id": "5b37c746",
   "metadata": {},
   "outputs": [],
   "source": [
    "class abcd:\n",
    "    def __init__(self, a, b):\n",
    "        \n",
    "        self.a = a\n",
    "        self.b = b"
   ]
  },
  {
   "cell_type": "code",
   "execution_count": 9,
   "id": "06716852",
   "metadata": {},
   "outputs": [],
   "source": [
    "obj = abcd(34, 5)"
   ]
  },
  {
   "cell_type": "code",
   "execution_count": 10,
   "id": "568eb201",
   "metadata": {},
   "outputs": [],
   "source": [
    "obj.a = 325\n"
   ]
  },
  {
   "cell_type": "code",
   "execution_count": 11,
   "id": "133b140a",
   "metadata": {},
   "outputs": [
    {
     "data": {
      "text/plain": [
       "325"
      ]
     },
     "execution_count": 11,
     "metadata": {},
     "output_type": "execute_result"
    }
   ],
   "source": [
    "obj.a"
   ]
  },
  {
   "cell_type": "code",
   "execution_count": 32,
   "id": "caadb4dd",
   "metadata": {},
   "outputs": [],
   "source": [
    "class car:\n",
    "    def __init__(self, year, model, speed):\n",
    "        self.__year = year\n",
    "        self.__model = model\n",
    "        self.__speed = speed\n",
    "        \n",
    "    def set_speed(self, speed):\n",
    "        self.__speed = 0 if speed < 0 else speed\n",
    "    \n",
    "    def get_speed(self):\n",
    "        return self.__speed"
   ]
  },
  {
   "cell_type": "code",
   "execution_count": 33,
   "id": "ebb99a4d",
   "metadata": {},
   "outputs": [],
   "source": [
    "obj1 = car(2023, 'innova', 120)"
   ]
  },
  {
   "cell_type": "code",
   "execution_count": 28,
   "id": "4dd9d101",
   "metadata": {},
   "outputs": [],
   "source": [
    "# obj1._car__year = 202345"
   ]
  },
  {
   "cell_type": "code",
   "execution_count": 34,
   "id": "96a9b7ec",
   "metadata": {},
   "outputs": [
    {
     "data": {
      "text/plain": [
       "2023"
      ]
     },
     "execution_count": 34,
     "metadata": {},
     "output_type": "execute_result"
    }
   ],
   "source": [
    "obj1._car__year"
   ]
  },
  {
   "cell_type": "code",
   "execution_count": 40,
   "id": "3368c6b5",
   "metadata": {},
   "outputs": [],
   "source": [
    "obj1.set_speed(256)"
   ]
  },
  {
   "cell_type": "code",
   "execution_count": 43,
   "id": "f6d5617c",
   "metadata": {},
   "outputs": [
    {
     "data": {
      "text/plain": [
       "256"
      ]
     },
     "execution_count": 43,
     "metadata": {},
     "output_type": "execute_result"
    }
   ],
   "source": [
    "obj1.get_speed()"
   ]
  },
  {
   "cell_type": "code",
   "execution_count": 62,
   "id": "036cd53b",
   "metadata": {},
   "outputs": [],
   "source": [
    "class bank_account:\n",
    "    def __init__(self, balance):\n",
    "        self.__balance = balance\n",
    "    \n",
    "    def deposit(self, amount):\n",
    "        self.__balance += amount\n",
    "    \n",
    "    def show_balance(self):\n",
    "        return self.__balance\n",
    "        \n",
    "    def withdraw(self, amount):\n",
    "        if self.__balance >= amount:\n",
    "            self.__balance -= amount\n",
    "            return True\n",
    "        else:\n",
    "            return False\n",
    "#             print(\"Not sufficiant balance.\")"
   ]
  },
  {
   "cell_type": "code",
   "execution_count": 63,
   "id": "29e5f145",
   "metadata": {},
   "outputs": [],
   "source": [
    "c = bank_account(10000)"
   ]
  },
  {
   "cell_type": "code",
   "execution_count": 64,
   "id": "05f4f799",
   "metadata": {},
   "outputs": [],
   "source": [
    "c.deposit(250)"
   ]
  },
  {
   "cell_type": "code",
   "execution_count": 69,
   "id": "8cda22bc",
   "metadata": {},
   "outputs": [
    {
     "data": {
      "text/plain": [
       "10050"
      ]
     },
     "execution_count": 69,
     "metadata": {},
     "output_type": "execute_result"
    }
   ],
   "source": [
    "c.show_balance()"
   ]
  },
  {
   "cell_type": "code",
   "execution_count": 68,
   "id": "6ce88cad",
   "metadata": {},
   "outputs": [
    {
     "data": {
      "text/plain": [
       "True"
      ]
     },
     "execution_count": 68,
     "metadata": {},
     "output_type": "execute_result"
    }
   ],
   "source": [
    "c.withdraw(200)"
   ]
  }
 ],
 "metadata": {
  "kernelspec": {
   "display_name": "Python 3 (ipykernel)",
   "language": "python",
   "name": "python3"
  },
  "language_info": {
   "codemirror_mode": {
    "name": "ipython",
    "version": 3
   },
   "file_extension": ".py",
   "mimetype": "text/x-python",
   "name": "python",
   "nbconvert_exporter": "python",
   "pygments_lexer": "ipython3",
   "version": "3.10.9"
  }
 },
 "nbformat": 4,
 "nbformat_minor": 5
}
