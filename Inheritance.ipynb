{
 "cells": [
  {
   "cell_type": "code",
   "execution_count": 2,
   "id": "41d86e11",
   "metadata": {},
   "outputs": [],
   "source": [
    "######### MULTILEVEL INHERITANCE ##############\n",
    "\n",
    "class class1:\n",
    "    def test_method1(self):\n",
    "        return \"this is a method of class 1\"\n",
    "    \n",
    "class class2(class1):\n",
    "    def test_method2(self):\n",
    "        return \"this is a method of class 2\"\n",
    "    \n",
    "class class3(class2):\n",
    "    pass"
   ]
  },
  {
   "cell_type": "code",
   "execution_count": 3,
   "id": "828cb83f",
   "metadata": {},
   "outputs": [],
   "source": [
    "class3_obj = class3()"
   ]
  },
  {
   "cell_type": "code",
   "execution_count": 7,
   "id": "2feb31ad",
   "metadata": {},
   "outputs": [
    {
     "data": {
      "text/plain": [
       "'this is a method of class 2'"
      ]
     },
     "execution_count": 7,
     "metadata": {},
     "output_type": "execute_result"
    }
   ],
   "source": [
    "class3_obj.test_method2()"
   ]
  },
  {
   "cell_type": "code",
   "execution_count": 9,
   "id": "e8ebf59f",
   "metadata": {},
   "outputs": [],
   "source": [
    "######## MULTIPLE INHERITANCE ###########\n",
    "\n",
    "class class1:\n",
    "    def test_method1(self):\n",
    "        return \"this is a method of class 1\"\n",
    "\n",
    "class class2:\n",
    "    def test_method2(self):\n",
    "        return \"this is a method of class 2\"\n",
    "    \n",
    "class class3(class1, class2):\n",
    "    pass"
   ]
  },
  {
   "cell_type": "code",
   "execution_count": 18,
   "id": "f18ae842",
   "metadata": {},
   "outputs": [],
   "source": [
    "class3_object = class3()"
   ]
  },
  {
   "cell_type": "code",
   "execution_count": 19,
   "id": "bcaa405e",
   "metadata": {},
   "outputs": [
    {
     "data": {
      "text/plain": [
       "'this is a method of class 1'"
      ]
     },
     "execution_count": 19,
     "metadata": {},
     "output_type": "execute_result"
    }
   ],
   "source": [
    "class3_object.test_method1()"
   ]
  }
 ],
 "metadata": {
  "kernelspec": {
   "display_name": "Python 3 (ipykernel)",
   "language": "python",
   "name": "python3"
  },
  "language_info": {
   "codemirror_mode": {
    "name": "ipython",
    "version": 3
   },
   "file_extension": ".py",
   "mimetype": "text/x-python",
   "name": "python",
   "nbconvert_exporter": "python",
   "pygments_lexer": "ipython3",
   "version": "3.10.9"
  }
 },
 "nbformat": 4,
 "nbformat_minor": 5
}
