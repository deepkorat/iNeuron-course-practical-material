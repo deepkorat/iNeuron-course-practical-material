{
 "cells": [
  {
   "cell_type": "code",
   "execution_count": 3,
   "id": "0a303400",
   "metadata": {},
   "outputs": [],
   "source": [
    "l1 = [2,3,4,5,6,7,8]\n"
   ]
  },
  {
   "cell_type": "code",
   "execution_count": 4,
   "id": "646e6a76",
   "metadata": {},
   "outputs": [],
   "source": [
    "def sq(x):\n",
    "    return x**2"
   ]
  },
  {
   "cell_type": "code",
   "execution_count": 5,
   "id": "de966a8d",
   "metadata": {},
   "outputs": [
    {
     "data": {
      "text/plain": [
       "[4, 9, 16, 25, 36, 49, 64]"
      ]
     },
     "execution_count": 5,
     "metadata": {},
     "output_type": "execute_result"
    }
   ],
   "source": [
    "# map(sq, l1)\n",
    "list(map(sq, l1))"
   ]
  },
  {
   "cell_type": "code",
   "execution_count": 6,
   "id": "f6ae49e4",
   "metadata": {},
   "outputs": [
    {
     "data": {
      "text/plain": [
       "[False, True, True, True, True, True, True]"
      ]
     },
     "execution_count": 6,
     "metadata": {},
     "output_type": "execute_result"
    }
   ],
   "source": [
    "list(map(lambda x: x>2, l1))  # map function iterable to ek ek ek krke leta hai or function se implement kr deta hai."
   ]
  },
  {
   "cell_type": "code",
   "execution_count": 47,
   "id": "ac454565",
   "metadata": {},
   "outputs": [],
   "source": [
    "#### two list sum ####\n",
    "li1 = [1,2,3,4,5]\n",
    "li2 = [6,7,8,9,10]"
   ]
  },
  {
   "cell_type": "code",
   "execution_count": 44,
   "id": "730d0401",
   "metadata": {},
   "outputs": [
    {
     "data": {
      "text/plain": [
       "[7, 9, 11, 13, 15]"
      ]
     },
     "execution_count": 44,
     "metadata": {},
     "output_type": "execute_result"
    }
   ],
   "source": [
    "list(map(lambda x, y: x+y , li1, li2))"
   ]
  },
  {
   "cell_type": "code",
   "execution_count": 49,
   "id": "b6e1faeb",
   "metadata": {},
   "outputs": [],
   "source": [
    "def add(x, y):\n",
    "    return x+y"
   ]
  },
  {
   "cell_type": "code",
   "execution_count": 50,
   "id": "410ad424",
   "metadata": {},
   "outputs": [
    {
     "data": {
      "text/plain": [
       "[7, 9, 11, 13, 15]"
      ]
     },
     "execution_count": 50,
     "metadata": {},
     "output_type": "execute_result"
    }
   ],
   "source": [
    "list(map(add , li1, li2))"
   ]
  },
  {
   "cell_type": "code",
   "execution_count": null,
   "id": "ce369bb7",
   "metadata": {},
   "outputs": [],
   "source": [
    "##### STRING UPPERCASE #####"
   ]
  },
  {
   "cell_type": "code",
   "execution_count": 53,
   "id": "fb7e1741",
   "metadata": {},
   "outputs": [],
   "source": [
    "str = \"deepkorat\""
   ]
  },
  {
   "cell_type": "code",
   "execution_count": 56,
   "id": "09fdcf5d",
   "metadata": {},
   "outputs": [
    {
     "data": {
      "text/plain": [
       "['D', 'E', 'E', 'P', 'K', 'O', 'R', 'A', 'T']"
      ]
     },
     "execution_count": 56,
     "metadata": {},
     "output_type": "execute_result"
    }
   ],
   "source": [
    "list(map(lambda s: s.upper(), str))"
   ]
  },
  {
   "cell_type": "code",
   "execution_count": null,
   "id": "d664b051",
   "metadata": {},
   "outputs": [],
   "source": [
    "############################################################# REDUCE ###########################################"
   ]
  },
  {
   "cell_type": "code",
   "execution_count": 9,
   "id": "1951e796",
   "metadata": {},
   "outputs": [],
   "source": [
    "from functools import reduce"
   ]
  },
  {
   "cell_type": "code",
   "execution_count": 10,
   "id": "aa7eae66",
   "metadata": {},
   "outputs": [
    {
     "data": {
      "text/plain": [
       "21"
      ]
     },
     "execution_count": 10,
     "metadata": {},
     "output_type": "execute_result"
    }
   ],
   "source": [
    "list1 = [1,2,3,4,5,6]\n",
    "reduce(lambda x,y: x+y, list1) # we can't give 3 parameter, always should be 2 parameter."
   ]
  },
  {
   "cell_type": "code",
   "execution_count": 102,
   "id": "1e29295f",
   "metadata": {},
   "outputs": [
    {
     "data": {
      "text/plain": [
       "15"
      ]
     },
     "execution_count": 102,
     "metadata": {},
     "output_type": "execute_result"
    }
   ],
   "source": [
    "reduce(lambda x, y: x if x>y else y, list1)\n"
   ]
  },
  {
   "cell_type": "code",
   "execution_count": 125,
   "id": "d8baf4d5",
   "metadata": {},
   "outputs": [],
   "source": [
    "l = [-3,-5,1,2,-6,3,3,4,5]"
   ]
  },
  {
   "cell_type": "code",
   "execution_count": 127,
   "id": "e7bf2219",
   "metadata": {},
   "outputs": [
    {
     "data": {
      "text/plain": [
       "[2, -6, 4]"
      ]
     },
     "execution_count": 127,
     "metadata": {},
     "output_type": "execute_result"
    }
   ],
   "source": [
    "list(filter(lambda n: n%2==0 , l))"
   ]
  },
  {
   "cell_type": "code",
   "execution_count": 146,
   "id": "d3920578",
   "metadata": {},
   "outputs": [
    {
     "data": {
      "text/plain": [
       "[-3, -5, -6]"
      ]
     },
     "execution_count": 146,
     "metadata": {},
     "output_type": "execute_result"
    }
   ],
   "source": [
    "list(filter(lambda n: n<0 , l))"
   ]
  },
  {
   "cell_type": "code",
   "execution_count": 152,
   "id": "61dc489a",
   "metadata": {},
   "outputs": [],
   "source": [
    "str_list = ['deep','korat','drashti','chhodvadiya']"
   ]
  },
  {
   "cell_type": "code",
   "execution_count": 153,
   "id": "0ac06a5c",
   "metadata": {},
   "outputs": [
    {
     "data": {
      "text/plain": [
       "['deep', 'korat']"
      ]
     },
     "execution_count": 153,
     "metadata": {},
     "output_type": "execute_result"
    }
   ],
   "source": [
    "list(filter(lambda str: len(str)<6 , str_list))"
   ]
  }
 ],
 "metadata": {
  "kernelspec": {
   "display_name": "Python 3 (ipykernel)",
   "language": "python",
   "name": "python3"
  },
  "language_info": {
   "codemirror_mode": {
    "name": "ipython",
    "version": 3
   },
   "file_extension": ".py",
   "mimetype": "text/x-python",
   "name": "python",
   "nbconvert_exporter": "python",
   "pygments_lexer": "ipython3",
   "version": "3.10.9"
  }
 },
 "nbformat": 4,
 "nbformat_minor": 5
}
