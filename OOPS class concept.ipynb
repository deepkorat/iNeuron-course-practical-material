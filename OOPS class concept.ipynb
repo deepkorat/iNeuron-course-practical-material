{
 "cells": [
  {
   "cell_type": "code",
   "execution_count": 39,
   "id": "e620818c",
   "metadata": {},
   "outputs": [],
   "source": [
    "class Information:\n",
    "    def __init__(me, phonenumber, email, id):\n",
    "        me.phonenumber = phonenumber\n",
    "        me.email = email\n",
    "        me.id = id\n",
    "        \n",
    "    def return_msg(me):\n",
    "        return me.phonenumber, email, id"
   ]
  },
  {
   "cell_type": "code",
   "execution_count": 41,
   "id": "19e7500f",
   "metadata": {},
   "outputs": [],
   "source": [
    "deep = Information(96968978, 'deep@gmail.com', 101)"
   ]
  },
  {
   "cell_type": "code",
   "execution_count": 42,
   "id": "b948a64d",
   "metadata": {},
   "outputs": [
    {
     "data": {
      "text/plain": [
       "96968978"
      ]
     },
     "execution_count": 42,
     "metadata": {},
     "output_type": "execute_result"
    }
   ],
   "source": [
    "deep.phonenumber"
   ]
  },
  {
   "cell_type": "code",
   "execution_count": null,
   "id": "4f41ef5f",
   "metadata": {},
   "outputs": [],
   "source": []
  }
 ],
 "metadata": {
  "kernelspec": {
   "display_name": "Python 3 (ipykernel)",
   "language": "python",
   "name": "python3"
  },
  "language_info": {
   "codemirror_mode": {
    "name": "ipython",
    "version": 3
   },
   "file_extension": ".py",
   "mimetype": "text/x-python",
   "name": "python",
   "nbconvert_exporter": "python",
   "pygments_lexer": "ipython3",
   "version": "3.10.9"
  }
 },
 "nbformat": 4,
 "nbformat_minor": 5
}
