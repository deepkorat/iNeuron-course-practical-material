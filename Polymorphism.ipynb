{
 "cells": [
  {
   "cell_type": "code",
   "execution_count": 16,
   "id": "6645f908",
   "metadata": {},
   "outputs": [],
   "source": [
    "class data_science:\n",
    "    def syllabus(self):\n",
    "        print(\"Data science syllabus is here.\")"
   ]
  },
  {
   "cell_type": "code",
   "execution_count": 15,
   "id": "4babbf5c",
   "metadata": {},
   "outputs": [],
   "source": [
    "class web_dev:\n",
    "    def syllabus(self):\n",
    "        print(\"Web Dev syllabus is here.\")"
   ]
  },
  {
   "cell_type": "code",
   "execution_count": 17,
   "id": "b349f93e",
   "metadata": {},
   "outputs": [],
   "source": [
    "def class_parcer(class_obj):\n",
    "    for i in class_obj:\n",
    "        i.syllabus()"
   ]
  },
  {
   "cell_type": "code",
   "execution_count": 18,
   "id": "41e8f56b",
   "metadata": {},
   "outputs": [],
   "source": [
    "data_science = data_science()"
   ]
  },
  {
   "cell_type": "code",
   "execution_count": 19,
   "id": "34ed2925",
   "metadata": {},
   "outputs": [],
   "source": [
    "web_dev = web_dev()"
   ]
  },
  {
   "cell_type": "code",
   "execution_count": 24,
   "id": "0b39fac8",
   "metadata": {},
   "outputs": [],
   "source": [
    "class_obj = [data_science, web_dev]"
   ]
  },
  {
   "cell_type": "code",
   "execution_count": 25,
   "id": "94aa32bd",
   "metadata": {},
   "outputs": [
    {
     "name": "stdout",
     "output_type": "stream",
     "text": [
      "Data science syllabus is here.\n",
      "Web Dev syllabus is here.\n"
     ]
    }
   ],
   "source": [
    "class_parcer(class_obj) "
   ]
  }
 ],
 "metadata": {
  "kernelspec": {
   "display_name": "Python 3 (ipykernel)",
   "language": "python",
   "name": "python3"
  },
  "language_info": {
   "codemirror_mode": {
    "name": "ipython",
    "version": 3
   },
   "file_extension": ".py",
   "mimetype": "text/x-python",
   "name": "python",
   "nbconvert_exporter": "python",
   "pygments_lexer": "ipython3",
   "version": "3.10.9"
  }
 },
 "nbformat": 4,
 "nbformat_minor": 5
}
