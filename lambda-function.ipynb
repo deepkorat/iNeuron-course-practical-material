{
 "cells": [
  {
   "cell_type": "code",
   "execution_count": 1,
   "id": "8c4a2329",
   "metadata": {},
   "outputs": [],
   "source": [
    "n = 3\n",
    "p = 2\n",
    "def power(n,p):\n",
    "    return n**p"
   ]
  },
  {
   "cell_type": "code",
   "execution_count": 2,
   "id": "31d2e95f",
   "metadata": {},
   "outputs": [
    {
     "data": {
      "text/plain": [
       "9"
      ]
     },
     "execution_count": 2,
     "metadata": {},
     "output_type": "execute_result"
    }
   ],
   "source": [
    "power(n,p)"
   ]
  },
  {
   "cell_type": "code",
   "execution_count": 3,
   "id": "ed5131d9",
   "metadata": {},
   "outputs": [],
   "source": [
    "#### using lambda function ####\n",
    "## lambda passing_variables : execution code\n",
    "lambda n,p: n**p ## this is a anonymus function..jiska koi name nahi hai.\n",
    "a_bhai = lambda n,p: n**p ## variable me function dal diya... or variable through function call karenge."
   ]
  },
  {
   "cell_type": "code",
   "execution_count": 12,
   "id": "b4a982f3",
   "metadata": {},
   "outputs": [
    {
     "data": {
      "text/plain": [
       "9"
      ]
     },
     "execution_count": 12,
     "metadata": {},
     "output_type": "execute_result"
    }
   ],
   "source": [
    "a_bhai(n,p)"
   ]
  },
  {
   "cell_type": "code",
   "execution_count": 29,
   "id": "d0206ab5",
   "metadata": {},
   "outputs": [
    {
     "data": {
      "text/plain": [
       "113.0"
      ]
     },
     "execution_count": 29,
     "metadata": {},
     "output_type": "execute_result"
    }
   ],
   "source": [
    "#### celcius to ferenhit ####\n",
    "c_to_f = lambda c: (c* 9/5) + 32\n",
    "c_to_f(45)"
   ]
  },
  {
   "cell_type": "code",
   "execution_count": 32,
   "id": "3ad714f3",
   "metadata": {},
   "outputs": [
    {
     "data": {
      "text/plain": [
       "50"
      ]
     },
     "execution_count": 32,
     "metadata": {},
     "output_type": "execute_result"
    }
   ],
   "source": [
    "#### finding a maximum number\n",
    "finding_max = lambda x, y: x if x>y else y\n",
    "finding_max(10,50)"
   ]
  },
  {
   "cell_type": "code",
   "execution_count": 36,
   "id": "e505c668",
   "metadata": {},
   "outputs": [
    {
     "data": {
      "text/plain": [
       "9"
      ]
     },
     "execution_count": 36,
     "metadata": {},
     "output_type": "execute_result"
    }
   ],
   "source": [
    "#### length of string ####\n",
    "len_str = lambda str: len(str)\n",
    "len_str(\"Deepkorat\")"
   ]
  }
 ],
 "metadata": {
  "kernelspec": {
   "display_name": "Python 3 (ipykernel)",
   "language": "python",
   "name": "python3"
  },
  "language_info": {
   "codemirror_mode": {
    "name": "ipython",
    "version": 3
   },
   "file_extension": ".py",
   "mimetype": "text/x-python",
   "name": "python",
   "nbconvert_exporter": "python",
   "pygments_lexer": "ipython3",
   "version": "3.10.9"
  }
 },
 "nbformat": 4,
 "nbformat_minor": 5
}
