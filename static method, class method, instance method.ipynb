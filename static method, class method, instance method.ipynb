{
 "cells": [
  {
   "cell_type": "code",
   "execution_count": 41,
   "id": "bf5c6834",
   "metadata": {},
   "outputs": [],
   "source": [
    "class IT:\n",
    "    #instance method\n",
    "    def computers(self, name, storage, ram, g_name):\n",
    "        print(name, storage, ram)\n",
    "        self.graphic_card(g_name) #static method call in instance method\n",
    "        \n",
    "    #static method\n",
    "    @staticmethod\n",
    "    def graphic_card(g_name):\n",
    "        print(g_name)\n",
    "        \n",
    "    #class method\n",
    "    @classmethod\n",
    "    def new_AI(cls):\n",
    "        cls.graphic_card(\"NVIDIA GRAPHIC CARD\")"
   ]
  },
  {
   "cell_type": "code",
   "execution_count": 42,
   "id": "8226506e",
   "metadata": {},
   "outputs": [],
   "source": [
    "o1 = IT()"
   ]
  },
  {
   "cell_type": "code",
   "execution_count": 43,
   "id": "0574487e",
   "metadata": {},
   "outputs": [
    {
     "name": "stdout",
     "output_type": "stream",
     "text": [
      "lenovo 1TB 8\n",
      "NVIDIA\n"
     ]
    }
   ],
   "source": [
    "o1.computers(\"lenovo\", \"1TB\", 8, \"NVIDIA\")"
   ]
  },
  {
   "cell_type": "code",
   "execution_count": 44,
   "id": "8c88e54a",
   "metadata": {},
   "outputs": [
    {
     "name": "stdout",
     "output_type": "stream",
     "text": [
      "NVIDIA\n"
     ]
    }
   ],
   "source": [
    "IT.graphic_card(\"NVIDIA\")"
   ]
  },
  {
   "cell_type": "code",
   "execution_count": 45,
   "id": "22001b53",
   "metadata": {},
   "outputs": [
    {
     "name": "stdout",
     "output_type": "stream",
     "text": [
      "NVIDIA GRAPHIC CARD\n"
     ]
    }
   ],
   "source": [
    "IT.new_AI()"
   ]
  }
 ],
 "metadata": {
  "kernelspec": {
   "display_name": "Python 3 (ipykernel)",
   "language": "python",
   "name": "python3"
  },
  "language_info": {
   "codemirror_mode": {
    "name": "ipython",
    "version": 3
   },
   "file_extension": ".py",
   "mimetype": "text/x-python",
   "name": "python",
   "nbconvert_exporter": "python",
   "pygments_lexer": "ipython3",
   "version": "3.10.9"
  }
 },
 "nbformat": 4,
 "nbformat_minor": 5
}
