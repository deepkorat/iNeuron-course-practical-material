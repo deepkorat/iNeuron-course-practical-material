{
 "cells": [
  {
   "cell_type": "code",
   "execution_count": 102,
   "id": "89c2b1ea-c8a8-4e82-8e09-76f2df859f17",
   "metadata": {},
   "outputs": [],
   "source": [
    "from moviepy.editor import *\n",
    "import numpy as np"
   ]
  },
  {
   "cell_type": "code",
   "execution_count": 103,
   "id": "e8f5f4ac-c70e-40ec-8366-04e216e1dcc2",
   "metadata": {},
   "outputs": [],
   "source": [
    "file_path = 'D:/DATA-SCIENCE/INEURON-COURSE/00.Python/14.Working with Files/016. Working-With-Files-coursedl.org.mp4'\n",
    "file_path2 = 'D:/DATA-SCIENCE/INEURON-COURSE/00.Python/14.Working with Files/017. Reading And Writing Files - coursedl.org.mp4'"
   ]
  },
  {
   "cell_type": "code",
   "execution_count": null,
   "id": "623d2ba5-66bd-482d-901a-002120ea3ac7",
   "metadata": {},
   "outputs": [],
   "source": [
    "import os\n",
    "from moviepy.editor import VideoFileClip\n",
    "import pandas as pd\n",
    "\n",
    "def get_video_details(folder_path):\n",
    "    video_details = []\n",
    "    \n",
    "    for root, _, files in os.walk(folder_path):\n",
    "        for file in files:\n",
    "            if file.lower().endswith(('.mp4', '.avi', '.mkv', '.wmv', '.mov')):\n",
    "                file_path = os.path.join(root, file)\n",
    "                try:\n",
    "                    clip = VideoFileClip(file_path)\n",
    "                    duration = clip.duration\n",
    "                    size = os.path.getsize(file_path)\n",
    "                    video_details.append({\n",
    "                        'File Name': file,\n",
    "                        'Duration(s)': duration,\n",
    "                        'File Size (bytes)': size\n",
    "                    })\n",
    "                    clip.close()\n",
    "                except Exception as e:\n",
    "                    print(f\"Error processing {file}: {e}\")\n",
    "    \n",
    "    return pd.DataFrame(video_details)\n",
    "\n",
    "# Replace 'path/to/data science' with the path to your \"data science\" folder.\n",
    "folder_path = 'D:/DATA-SCIENCE/INEURON-COURSE'\n",
    "df_videos_details = get_video_details(folder_path)\n",
    "\n",
    "# Display the dataframe containing all video details\n",
    "# print(df_videos_details)"
   ]
  },
  {
   "cell_type": "code",
   "execution_count": null,
   "id": "6c12ea6e-2714-435c-86cd-6177acd9f611",
   "metadata": {},
   "outputs": [],
   "source": [
    "format_duration = lambda seconds: f\"{int(seconds // 3600):02d}.{int((seconds % 3600) // 60):02d}.{int(seconds % 60):02d}\""
   ]
  },
  {
   "cell_type": "code",
   "execution_count": null,
   "id": "9ace1b92-a76c-49f5-88ca-51f3f16b555d",
   "metadata": {},
   "outputs": [],
   "source": [
    "df_videos_details['total_time(hh.mm.ss)'] = df_videos_details['Duration(s)'].apply(format_duration)"
   ]
  },
  {
   "cell_type": "code",
   "execution_count": null,
   "id": "423dc980-6a01-4cb2-958f-b5bbeedf227a",
   "metadata": {},
   "outputs": [],
   "source": [
    "df_videos_details"
   ]
  },
  {
   "cell_type": "markdown",
   "id": "6127fcb9-7615-47f4-a710-b0d9714e5c5f",
   "metadata": {},
   "source": [
    "### Fetching videos that more than 1500 seconds"
   ]
  },
  {
   "cell_type": "code",
   "execution_count": null,
   "id": "bc02d6c3-5280-4f67-8249-562335552950",
   "metadata": {},
   "outputs": [],
   "source": [
    "my = df_videos_details[df_videos_details['Duration(s)']>1500] "
   ]
  },
  {
   "cell_type": "code",
   "execution_count": null,
   "id": "20aef17f-6056-437e-9455-a9f04be10266",
   "metadata": {},
   "outputs": [],
   "source": []
  }
 ],
 "metadata": {
  "kernelspec": {
   "display_name": "Python 3 (ipykernel)",
   "language": "python",
   "name": "python3"
  },
  "language_info": {
   "codemirror_mode": {
    "name": "ipython",
    "version": 3
   },
   "file_extension": ".py",
   "mimetype": "text/x-python",
   "name": "python",
   "nbconvert_exporter": "python",
   "pygments_lexer": "ipython3",
   "version": "3.10.9"
  }
 },
 "nbformat": 4,
 "nbformat_minor": 5
}
