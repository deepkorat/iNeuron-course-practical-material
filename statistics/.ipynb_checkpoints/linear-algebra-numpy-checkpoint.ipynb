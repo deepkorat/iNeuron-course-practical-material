{
 "cells": [
  {
   "cell_type": "code",
   "execution_count": 4,
   "id": "3f965908",
   "metadata": {},
   "outputs": [],
   "source": [
    "import numpy as np"
   ]
  },
  {
   "cell_type": "code",
   "execution_count": 25,
   "id": "09abec96",
   "metadata": {},
   "outputs": [],
   "source": [
    "a = np.array([[20,25,20]])\n",
    "b = np.array([[10,50,5]])"
   ]
  },
  {
   "cell_type": "code",
   "execution_count": 28,
   "id": "80ba12c5",
   "metadata": {},
   "outputs": [
    {
     "data": {
      "text/plain": [
       "array([[ 200],\n",
       "       [1250],\n",
       "       [ 100]])"
      ]
     },
     "execution_count": 28,
     "metadata": {},
     "output_type": "execute_result"
    }
   ],
   "source": [
    "(a * b).T                                                                                            # T is for Transform"
   ]
  },
  {
   "cell_type": "code",
   "execution_count": null,
   "id": "edd96ca7",
   "metadata": {},
   "outputs": [],
   "source": []
  }
 ],
 "metadata": {
  "kernelspec": {
   "display_name": "Python 3 (ipykernel)",
   "language": "python",
   "name": "python3"
  },
  "language_info": {
   "codemirror_mode": {
    "name": "ipython",
    "version": 3
   },
   "file_extension": ".py",
   "mimetype": "text/x-python",
   "name": "python",
   "nbconvert_exporter": "python",
   "pygments_lexer": "ipython3",
   "version": "3.10.9"
  }
 },
 "nbformat": 4,
 "nbformat_minor": 5
}
