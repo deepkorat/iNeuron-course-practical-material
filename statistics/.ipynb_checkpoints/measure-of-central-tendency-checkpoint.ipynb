{
 "cells": [
  {
   "cell_type": "markdown",
   "id": "cf08ca03-b5c7-44f3-9331-d7952276995d",
   "metadata": {},
   "source": [
    "### Measure of Central Tendency"
   ]
  },
  {
   "cell_type": "code",
   "execution_count": 1,
   "id": "d8c280c1-d5fa-42cc-95c9-1e124426b7cc",
   "metadata": {},
   "outputs": [],
   "source": [
    "# mean\n",
    "x = [25,68,78,15,45,96,35,14,8,65,15,74]"
   ]
  },
  {
   "cell_type": "code",
   "execution_count": 3,
   "id": "02ca2bab-f855-410b-8aec-f185aed9da42",
   "metadata": {},
   "outputs": [
    {
     "data": {
      "text/plain": [
       "44.833333333333336"
      ]
     },
     "execution_count": 3,
     "metadata": {},
     "output_type": "execute_result"
    }
   ],
   "source": [
    "import numpy as np\n",
    "np.mean(x)"
   ]
  },
  {
   "cell_type": "code",
   "execution_count": null,
   "id": "a8e9b44e-10c7-441f-94f0-a409f94f4a9a",
   "metadata": {},
   "outputs": [],
   "source": [
    "import"
   ]
  },
  {
   "cell_type": "code",
   "execution_count": null,
   "id": "82f7d22f-c26c-4036-b1b0-0d8a4ffbd3b2",
   "metadata": {},
   "outputs": [],
   "source": []
  },
  {
   "cell_type": "code",
   "execution_count": null,
   "id": "2c00350e-e85b-457d-a043-b04e5ca06162",
   "metadata": {},
   "outputs": [],
   "source": []
  },
  {
   "cell_type": "code",
   "execution_count": null,
   "id": "c2149fa0-adbd-4616-a3bc-c7b75a201883",
   "metadata": {},
   "outputs": [],
   "source": []
  },
  {
   "cell_type": "code",
   "execution_count": null,
   "id": "9e60dc41-18f5-4ce5-a985-ec5af4ebd813",
   "metadata": {},
   "outputs": [],
   "source": []
  },
  {
   "cell_type": "code",
   "execution_count": null,
   "id": "6d02fedc-5ea1-43e0-a2a4-a743230c3174",
   "metadata": {},
   "outputs": [],
   "source": []
  },
  {
   "cell_type": "code",
   "execution_count": null,
   "id": "fa9e49bc-de14-4fea-9390-d331d872256d",
   "metadata": {},
   "outputs": [],
   "source": []
  },
  {
   "cell_type": "code",
   "execution_count": null,
   "id": "937d2b6e-6652-4abc-8442-91ec587b97d8",
   "metadata": {},
   "outputs": [],
   "source": []
  },
  {
   "cell_type": "code",
   "execution_count": null,
   "id": "98abfd66-53f5-4c4d-9014-8aa17b7628fc",
   "metadata": {},
   "outputs": [],
   "source": []
  },
  {
   "cell_type": "code",
   "execution_count": null,
   "id": "1dbc9f14-5417-4b45-8cdb-2ae4ba7784ef",
   "metadata": {},
   "outputs": [],
   "source": []
  },
  {
   "cell_type": "code",
   "execution_count": null,
   "id": "27f67256-c473-4132-a108-3cba03ee82be",
   "metadata": {},
   "outputs": [],
   "source": []
  },
  {
   "cell_type": "code",
   "execution_count": null,
   "id": "b9dedd34-1aa6-4000-a89e-5c8287d94cc2",
   "metadata": {},
   "outputs": [],
   "source": []
  }
 ],
 "metadata": {
  "kernelspec": {
   "display_name": "Python 3 (ipykernel)",
   "language": "python",
   "name": "python3"
  },
  "language_info": {
   "codemirror_mode": {
    "name": "ipython",
    "version": 3
   },
   "file_extension": ".py",
   "mimetype": "text/x-python",
   "name": "python",
   "nbconvert_exporter": "python",
   "pygments_lexer": "ipython3",
   "version": "3.10.9"
  }
 },
 "nbformat": 4,
 "nbformat_minor": 5
}
