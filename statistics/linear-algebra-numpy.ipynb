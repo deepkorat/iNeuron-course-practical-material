{
 "cells": [
  {
   "cell_type": "code",
   "execution_count": 4,
   "id": "c29e8057",
   "metadata": {},
   "outputs": [],
   "source": [
    "import numpy as np"
   ]
  },
  {
   "cell_type": "code",
   "execution_count": 25,
   "id": "543c554b",
   "metadata": {},
   "outputs": [],
   "source": [
    "a = np.array([[20,25,20]])\n",
    "b = np.array([[10,50,5]])"
   ]
  },
  {
   "cell_type": "code",
   "execution_count": 28,
   "id": "06af448f",
   "metadata": {},
   "outputs": [
    {
     "data": {
      "text/plain": [
       "array([[ 200],\n",
       "       [1250],\n",
       "       [ 100]])"
      ]
     },
     "execution_count": 28,
     "metadata": {},
     "output_type": "execute_result"
    }
   ],
   "source": [
    "(a * b).T                                                                                            # T is for Transform"
   ]
  },
  {
   "cell_type": "code",
   "execution_count": 33,
   "id": "9ac40978",
   "metadata": {},
   "outputs": [
    {
     "data": {
      "text/plain": [
       "array([[ 10],\n",
       "       [-25],\n",
       "       [ 15]])"
      ]
     },
     "execution_count": 33,
     "metadata": {},
     "output_type": "execute_result"
    }
   ],
   "source": [
    "# Subtracting 2 Vectors\n",
    "\n",
    "a.T - b.T"
   ]
  },
  {
   "cell_type": "code",
   "execution_count": 80,
   "id": "ebc96bf3-9452-439c-9291-ffb749ad0162",
   "metadata": {},
   "outputs": [
    {
     "data": {
      "text/plain": [
       "145"
      ]
     },
     "execution_count": 80,
     "metadata": {},
     "output_type": "execute_result"
    }
   ],
   "source": [
    "# Dot product of 2 vectors\n",
    "# For 2-D vectors,it is the equivalent to matrix multiplication.\n",
    "\n",
    "u = np.array([10,25])\n",
    "v = np.array([2,5])\n",
    "\n",
    "np.dot(u,v)"
   ]
  },
  {
   "cell_type": "markdown",
   "id": "1740c3fe-db33-4734-a223-135967fed1a4",
   "metadata": {},
   "source": [
    "### Scaler Addition"
   ]
  },
  {
   "cell_type": "code",
   "execution_count": 67,
   "id": "3196ff55-bd5a-426e-b54f-4b249f95118f",
   "metadata": {},
   "outputs": [
    {
     "data": {
      "text/plain": [
       "array([[60, 30]])"
      ]
     },
     "execution_count": 67,
     "metadata": {},
     "output_type": "execute_result"
    }
   ],
   "source": [
    "a = 2\n",
    "u = np.array([[30,15]])\n",
    "\n",
    "a * u"
   ]
  },
  {
   "cell_type": "markdown",
   "id": "55ddac39-95e9-4f73-90ff-fe8ae6e5133f",
   "metadata": {},
   "source": [
    "### Matrix Addition, Subtraction"
   ]
  },
  {
   "cell_type": "code",
   "execution_count": 79,
   "id": "0ca41172-fbfd-463b-b2af-85af188d3c63",
   "metadata": {},
   "outputs": [
    {
     "name": "stdout",
     "output_type": "stream",
     "text": [
      "[[12 18]\n",
      " [ 5  2]\n",
      " [25 32]] = a \n",
      "\n",
      "\n",
      "[[10  7]\n",
      " [25  3]\n",
      " [14 15]] = b \n",
      "\n",
      "\n"
     ]
    },
    {
     "data": {
      "text/plain": [
       "array([[22, 25],\n",
       "       [30,  5],\n",
       "       [39, 47]])"
      ]
     },
     "execution_count": 79,
     "metadata": {},
     "output_type": "execute_result"
    }
   ],
   "source": [
    "a = np.array([[12,18],[5,2],[25,32]])\n",
    "b = np.array([[10,7],[25,3],[14,15]])\n",
    "\n",
    "print(f\"{a} = a \\n\\n\")\n",
    "print(f\"{b} = b \\n\\n\")\n",
    "\n",
    "a + b"
   ]
  },
  {
   "cell_type": "markdown",
   "id": "f1ebff28-4e49-4f5e-b0bb-0ee300684c01",
   "metadata": {},
   "source": [
    "### Matrix Scaler Multiplication"
   ]
  },
  {
   "cell_type": "code",
   "execution_count": 69,
   "id": "8ca33862-c7f7-4369-b911-e07f4d43718c",
   "metadata": {},
   "outputs": [
    {
     "data": {
      "text/plain": [
       "array([[ 4, 10],\n",
       "       [12, 16],\n",
       "       [18,  2]])"
      ]
     },
     "execution_count": 69,
     "metadata": {},
     "output_type": "execute_result"
    }
   ],
   "source": [
    "a = np.array([[2,5],[6,8],[9,1]])\n",
    "u = 2\n",
    "\n",
    "a * 2"
   ]
  },
  {
   "cell_type": "markdown",
   "id": "7eeb206a-4206-4b52-8d85-d6fecab2090b",
   "metadata": {},
   "source": [
    "### Matrix & Vector Multiplication"
   ]
  },
  {
   "cell_type": "code",
   "execution_count": 74,
   "id": "67ec60e7-4d7f-4669-bc4a-b1fed5cd2688",
   "metadata": {},
   "outputs": [
    {
     "data": {
      "text/plain": [
       "array([170,  90])"
      ]
     },
     "execution_count": 74,
     "metadata": {},
     "output_type": "execute_result"
    }
   ],
   "source": [
    "a = [[5,10],[-15,20]]\n",
    "b = [10,12]\n",
    "\n",
    "np.dot(a,b)"
   ]
  },
  {
   "cell_type": "markdown",
   "id": "073af66f-8fbe-4f40-a712-71854f99c48d",
   "metadata": {},
   "source": [
    "### Matrix & Matrix Multiplication"
   ]
  },
  {
   "cell_type": "code",
   "execution_count": 77,
   "id": "556d8eff-7131-474f-ae7f-68280c119489",
   "metadata": {},
   "outputs": [
    {
     "data": {
      "text/plain": [
       "array([[105,  80],\n",
       "       [225, 190],\n",
       "       [345, 300]])"
      ]
     },
     "execution_count": 77,
     "metadata": {},
     "output_type": "execute_result"
    }
   ],
   "source": [
    "a = [[5,10], [15,20], [25,30]]\n",
    "b = [[3,6], [9,5]]\n",
    "\n",
    "np.dot(a, b)"
   ]
  },
  {
   "cell_type": "markdown",
   "id": "c3ffe33f-d1ed-41e4-b0bb-ac999a9c857c",
   "metadata": {},
   "source": [
    "### Transpose a Matrix"
   ]
  },
  {
   "cell_type": "code",
   "execution_count": 83,
   "id": "6464b8db-4987-449a-adea-f01aabf63136",
   "metadata": {},
   "outputs": [
    {
     "name": "stdout",
     "output_type": "stream",
     "text": [
      "[[10 20]\n",
      " [20 50]\n",
      " [40 80]] = a \n",
      "\n",
      "[[10 20 40]\n",
      " [20 50 80]] = aT"
     ]
    }
   ],
   "source": [
    "a = np.array([[10,20],[20,50],[40,80]])\n",
    "print(a, end=\" = a \\n\\n\")\n",
    "print(a.T, end = \" = aT\")"
   ]
  },
  {
   "cell_type": "markdown",
   "id": "e6551716-ed8e-4fcc-a2aa-add35baed6bc",
   "metadata": {},
   "source": [
    "### Create an Identity Matrix"
   ]
  },
  {
   "cell_type": "code",
   "execution_count": 90,
   "id": "404237cc-8b5d-4a4f-8f57-fc2c40a09428",
   "metadata": {},
   "outputs": [
    {
     "name": "stdout",
     "output_type": "stream",
     "text": [
      "[[1. 0.]\n",
      " [0. 1.]] = I1 \n",
      "\n",
      "[[1. 0. 0.]\n",
      " [0. 1. 0.]\n",
      " [0. 0. 1.]] = I2 \n",
      "\n"
     ]
    }
   ],
   "source": [
    "I1 = np.eye(2)\n",
    "I2 = np.eye(3)\n",
    "\n",
    "print(I1, end=\" = I1 \\n\\n\")\n",
    "print(I2, end=\" = I2 \\n\\n\")"
   ]
  },
  {
   "cell_type": "code",
   "execution_count": 93,
   "id": "8efae720-f208-451e-8709-b54afa5779c1",
   "metadata": {},
   "outputs": [
    {
     "name": "stdout",
     "output_type": "stream",
     "text": [
      "[[2 1 0]\n",
      " [0 1 0]\n",
      " [1 2 1]] = a\n",
      "\n",
      "[[ 0.5 -0.5  0. ]\n",
      " [ 0.   1.   0. ]\n",
      " [-0.5 -1.5  1. ]] = |a|"
     ]
    }
   ],
   "source": [
    "### Inverse a Matrix\n",
    "##### Given a square matrix A\n",
    "##### , return the matrix ainv satisfying dot(a, ainv)\n",
    "##### = dot(ainv, a) = eye(a.shape[0]).\n",
    "\n",
    "a = np.array([\n",
    "    [2, 1, 0],\n",
    "    [0, 1, 0],\n",
    "    [1, 2, 1],\n",
    "])\n",
    "print(a, end=\" = a\\n\\n\")\n",
    "print(np.linalg.inv(a), end=\" = |a|\")\n",
    "      "
   ]
  }
 ],
 "metadata": {
  "kernelspec": {
   "display_name": "Python 3 (ipykernel)",
   "language": "python",
   "name": "python3"
  },
  "language_info": {
   "codemirror_mode": {
    "name": "ipython",
    "version": 3
   },
   "file_extension": ".py",
   "mimetype": "text/x-python",
   "name": "python",
   "nbconvert_exporter": "python",
   "pygments_lexer": "ipython3",
   "version": "3.10.9"
  }
 },
 "nbformat": 4,
 "nbformat_minor": 5
}
