{
 "cells": [
  {
   "cell_type": "code",
   "execution_count": 4,
   "id": "c29e8057",
   "metadata": {},
   "outputs": [],
   "source": [
    "import numpy as np"
   ]
  },
  {
   "cell_type": "code",
   "execution_count": 25,
   "id": "543c554b",
   "metadata": {},
   "outputs": [],
   "source": [
    "a = np.array([[20,25,20]])\n",
    "b = np.array([[10,50,5]])"
   ]
  },
  {
   "cell_type": "code",
   "execution_count": 28,
   "id": "06af448f",
   "metadata": {},
   "outputs": [
    {
     "data": {
      "text/plain": [
       "array([[ 200],\n",
       "       [1250],\n",
       "       [ 100]])"
      ]
     },
     "execution_count": 28,
     "metadata": {},
     "output_type": "execute_result"
    }
   ],
   "source": [
    "(a * b).T                                                                                            # T is for Transform"
   ]
  },
  {
   "cell_type": "code",
   "execution_count": 29,
   "id": "9ac40978",
   "metadata": {},
   "outputs": [
    {
     "data": {
      "text/plain": [
       "array([[ 10],\n",
       "       [-25],\n",
       "       [ 15]])"
      ]
     },
     "execution_count": 29,
     "metadata": {},
     "output_type": "execute_result"
    }
   ],
   "source": [
    "# Subtracting 2 Vectors\n",
    "\n",
    "(a-b).T"
   ]
  }
 ],
 "metadata": {
  "kernelspec": {
   "display_name": "Python 3 (ipykernel)",
   "language": "python",
   "name": "python3"
  },
  "language_info": {
   "codemirror_mode": {
    "name": "ipython",
    "version": 3
   },
   "file_extension": ".py",
   "mimetype": "text/x-python",
   "name": "python",
   "nbconvert_exporter": "python",
   "pygments_lexer": "ipython3",
   "version": "3.10.9"
  }
 },
 "nbformat": 4,
 "nbformat_minor": 5
}
