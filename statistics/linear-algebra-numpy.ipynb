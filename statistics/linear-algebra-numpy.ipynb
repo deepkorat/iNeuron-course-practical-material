{
 "cells": [
  {
   "cell_type": "code",
   "execution_count": 4,
   "id": "c29e8057",
   "metadata": {},
   "outputs": [],
   "source": [
    "import numpy as np"
   ]
  },
  {
   "cell_type": "code",
   "execution_count": 25,
   "id": "543c554b",
   "metadata": {},
   "outputs": [],
   "source": [
    "a = np.array([[20,25,20]])\n",
    "b = np.array([[10,50,5]])"
   ]
  },
  {
   "cell_type": "code",
   "execution_count": 28,
   "id": "06af448f",
   "metadata": {},
   "outputs": [
    {
     "data": {
      "text/plain": [
       "array([[ 200],\n",
       "       [1250],\n",
       "       [ 100]])"
      ]
     },
     "execution_count": 28,
     "metadata": {},
     "output_type": "execute_result"
    }
   ],
   "source": [
    "(a * b).T                                                                                            # T is for Transform"
   ]
  },
  {
   "cell_type": "code",
   "execution_count": 33,
   "id": "9ac40978",
   "metadata": {},
   "outputs": [
    {
     "data": {
      "text/plain": [
       "array([[ 10],\n",
       "       [-25],\n",
       "       [ 15]])"
      ]
     },
     "execution_count": 33,
     "metadata": {},
     "output_type": "execute_result"
    }
   ],
   "source": [
    "# Subtracting 2 Vectors\n",
    "\n",
    "a.T - b.T"
   ]
  },
  {
   "cell_type": "code",
   "execution_count": 38,
   "id": "ebc96bf3-9452-439c-9291-ffb749ad0162",
   "metadata": {},
   "outputs": [
    {
     "data": {
      "text/plain": [
       "145"
      ]
     },
     "execution_count": 38,
     "metadata": {},
     "output_type": "execute_result"
    }
   ],
   "source": [
    "# Dot product of 2 vectors\n",
    "# For 2-D vectors,it is the equivalent to matrix multiplication.\n",
    "\n",
    "u = np.array([10,25])\n",
    "v = np.array([2,5])\n",
    "\n",
    "np.dot(u,v)"
   ]
  },
  {
   "cell_type": "code",
   "execution_count": 54,
   "id": "0ca41172-fbfd-463b-b2af-85af188d3c63",
   "metadata": {},
   "outputs": [
    {
     "name": "stdout",
     "output_type": "stream",
     "text": [
      "[[12 18]\n",
      " [ 5  2]\n",
      " [25 32]] = a \n",
      "\n",
      "\n",
      "[[10  7]\n",
      " [25  3]\n",
      " [14 15]] = b \n",
      "\n",
      "\n"
     ]
    },
    {
     "data": {
      "text/plain": [
       "array([[120, 126],\n",
       "       [125,   6],\n",
       "       [350, 480]])"
      ]
     },
     "execution_count": 54,
     "metadata": {},
     "output_type": "execute_result"
    }
   ],
   "source": [
    "a = np.array([[12,18],[5,2],[25,32]])\n",
    "b = np.array([[10,7],[25,3],[14,15]])\n",
    "\n",
    "print(f\"{a} = a \\n\\n\")\n",
    "print(f\"{b} = b \\n\\n\")\n",
    "\n",
    "a * b"
   ]
  }
 ],
 "metadata": {
  "kernelspec": {
   "display_name": "Python 3 (ipykernel)",
   "language": "python",
   "name": "python3"
  },
  "language_info": {
   "codemirror_mode": {
    "name": "ipython",
    "version": 3
   },
   "file_extension": ".py",
   "mimetype": "text/x-python",
   "name": "python",
   "nbconvert_exporter": "python",
   "pygments_lexer": "ipython3",
   "version": "3.10.9"
  }
 },
 "nbformat": 4,
 "nbformat_minor": 5
}
